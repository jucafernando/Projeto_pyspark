{
  "nbformat": 4,
  "nbformat_minor": 0,
  "metadata": {
    "colab": {
      "name": "Projeto_Pyspark_01",
      "provenance": [],
      "mount_file_id": "1mK22JRjnelaq48pwc8bQCD-W-WMixsnd",
      "authorship_tag": "ABX9TyOIwwXoKGMqyrSb6AgAROm4",
      "include_colab_link": true
    },
    "kernelspec": {
      "name": "python3",
      "display_name": "Python 3"
    },
    "language_info": {
      "name": "python"
    }
  },
  "cells": [
    {
      "cell_type": "markdown",
      "metadata": {
        "id": "view-in-github",
        "colab_type": "text"
      },
      "source": [
        "<a href=\"https://colab.research.google.com/github/jucafernando/Projeto_pyspark/blob/main/Projeto_Pyspark_01.ipynb\" target=\"_parent\"><img src=\"https://colab.research.google.com/assets/colab-badge.svg\" alt=\"Open In Colab\"/></a>"
      ]
    },
    {
      "cell_type": "code",
      "execution_count": 120,
      "metadata": {
        "colab": {
          "base_uri": "https://localhost:8080/"
        },
        "id": "eYCEvy2Eb8-A",
        "outputId": "aa4128b6-d92f-47e4-bb93-711d49b426ee"
      },
      "outputs": [
        {
          "output_type": "stream",
          "name": "stdout",
          "text": [
            "Looking in indexes: https://pypi.org/simple, https://us-python.pkg.dev/colab-wheels/public/simple/\n",
            "Requirement already satisfied: pyspark in /usr/local/lib/python3.7/dist-packages (3.3.0)\n",
            "Requirement already satisfied: py4j==0.10.9.5 in /usr/local/lib/python3.7/dist-packages (from pyspark) (0.10.9.5)\n"
          ]
        }
      ],
      "source": [
        "pip install pyspark"
      ]
    },
    {
      "cell_type": "code",
      "source": [
        "import os\n",
        "import sys\n",
        "\n",
        "os.environ['PYSPARK_PYTHON'] = sys.executable\n",
        "os.environ['PYSPARK_DRIVER_PYTHON'] = sys.executable\n",
        "\n",
        "# Resolvendo problema de versão python x pyspark workers"
      ],
      "metadata": {
        "id": "QobLu_QtWr5T"
      },
      "execution_count": 121,
      "outputs": []
    },
    {
      "cell_type": "code",
      "source": [
        "from pyspark.sql import SparkSession  # importando a seção para iniciar o pyspark\n",
        "from pyspark.sql.functions import *   # importando funções do pyspark\n",
        "from pyspark.sql.types import *       # importando função no pyspark que determina qual o tipo de dado em uma coluna "
      ],
      "metadata": {
        "id": "UunHJ181c8T3"
      },
      "execution_count": 122,
      "outputs": []
    },
    {
      "cell_type": "code",
      "source": [
        "# Criando/Iniciar seção no PySpark\n",
        " \n",
        "spark = (SparkSession.builder       # Vai criar a seção no spark\n",
        "         .master('local')           # Como o pyspark trabalha com cluster, essa opção mostra em qual cluster será usado e o nome. \n",
        "         .appName('Pyspark_01')     # Nome da seção no spark\n",
        "         .getOrCreate()             # Essa função puxará alguma seção que já foi criada. Se ainda não foi criada, será criada uma nova seção. \n",
        "         )\n"
      ],
      "metadata": {
        "id": "4QDevN2MgStW"
      },
      "execution_count": 123,
      "outputs": []
    },
    {
      "cell_type": "code",
      "source": [
        "\n",
        "from google.colab import files\n",
        "uploaded = files.upload()\n",
        "\n"
      ],
      "metadata": {
        "colab": {
          "base_uri": "https://localhost:8080/",
          "height": 420,
          "resources": {
            "http://localhost:8080/nbextensions/google.colab/files.js": {
              "data": "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",
              "ok": true,
              "headers": [
                [
                  "content-type",
                  "application/javascript"
                ]
              ],
              "status": 200,
              "status_text": ""
            }
          }
        },
        "id": "iqMMpxCXhJux",
        "outputId": "ac0e4c84-bbd8-43af-a55e-ab8ef9ff8fb0"
      },
      "execution_count": 124,
      "outputs": [
        {
          "output_type": "display_data",
          "data": {
            "text/plain": [
              "<IPython.core.display.HTML object>"
            ],
            "text/html": [
              "\n",
              "     <input type=\"file\" id=\"files-8768a22d-5173-4175-aee0-7b1a266ec4be\" name=\"files[]\" multiple disabled\n",
              "        style=\"border:none\" />\n",
              "     <output id=\"result-8768a22d-5173-4175-aee0-7b1a266ec4be\">\n",
              "      Upload widget is only available when the cell has been executed in the\n",
              "      current browser session. Please rerun this cell to enable.\n",
              "      </output>\n",
              "      <script src=\"/nbextensions/google.colab/files.js\"></script> "
            ]
          },
          "metadata": {}
        },
        {
          "output_type": "stream",
          "name": "stdout",
          "text": [
            "Saving Emprestimo.csv to Emprestimo (3).csv\n",
            "Saving Editora.csv to Editora (3).csv\n",
            "Saving Autor.csv to Autor (3).csv\n",
            "Saving Devolucao.csv to Devolucao (3).csv\n",
            "Saving Departamento.csv to Departamento (3).csv\n",
            "Saving Cargo.csv to Cargo (3).csv\n",
            "Saving Estoque.csv to Estoque (3).csv\n",
            "Saving Funcionario.csv to Funcionario (3).csv\n",
            "Saving Obra.csv to Obra (3).csv\n",
            "Saving Usuario.csv to Usuario (3).csv\n",
            "Saving Reserva.csv to Reserva (3).csv\n"
          ]
        }
      ]
    },
    {
      "cell_type": "code",
      "source": [
        "# Criando um dataframe e ler o arquivo \n",
        "\n",
        "df = spark.read.csv('Devolucao.csv', header=True, inferSchema=True)"
      ],
      "metadata": {
        "id": "78FCpMH95P4R"
      },
      "execution_count": 125,
      "outputs": []
    },
    {
      "cell_type": "code",
      "source": [
        "df.show()"
      ],
      "metadata": {
        "colab": {
          "base_uri": "https://localhost:8080/"
        },
        "id": "BXa6eg-4Oz7h",
        "outputId": "abf1567b-90a1-4d99-93a7-83846c074771"
      },
      "execution_count": 126,
      "outputs": [
        {
          "output_type": "stream",
          "name": "stdout",
          "text": [
            "+------------+--------------+-------------+----------+-------+--------------+-------------------+------------+\n",
            "|ID_Devolucao|ID_Funcionario|ID_Emprestimo|ID_Estoque|ID_Obra|Data_Devolucao|     Hora_Devolucao|Multa_Atraso|\n",
            "+------------+--------------+-------------+----------+-------+--------------+-------------------+------------+\n",
            "|           1|             1|            1|        21|     10|     17/8/2011|2022-08-16 18:00:00|          10|\n",
            "|           2|             8|            2|        14|     14|     28/9/2011|2022-08-16 13:00:00|           0|\n",
            "|           3|             8|            3|        11|     18|     13/7/2011|2022-08-16 14:55:00|           2|\n",
            "|           4|             8|            4|        30|     17|     20/8/2011|2022-08-16 12:01:00|           3|\n",
            "|           5|             1|            5|         1|     23|     11/6/2011|2022-08-16 10:00:00|           0|\n",
            "|           6|             8|            6|         5|     24|     22/8/2011|2022-08-16 14:55:00|           4|\n",
            "|           7|             1|            7|         7|     21|     27/3/2012|2022-08-16 13:00:00|           0|\n",
            "|           8|             8|            8|        18|      6|     21/8/2011|2022-08-16 14:55:00|           0|\n",
            "|           9|             8|            9|        10|     30|      3/4/2012|2022-08-16 10:00:00|           1|\n",
            "|          10|             1|           10|        27|      9|     21/8/2011|2022-08-16 18:00:00|           2|\n",
            "|          11|             8|           11|        22|     11|     31/3/2012|2022-08-16 14:29:00|           0|\n",
            "|          12|             1|           12|         3|     25|     23/8/2011|2022-08-16 17:54:00|           1|\n",
            "|          13|             1|           13|        29|     16|      2/4/2012|2022-08-16 08:36:00|           0|\n",
            "|          14|             1|           14|         4|      1|      3/4/2012|2022-08-16 16:30:00|           0|\n",
            "|          15|             8|           15|        23|     26|     30/6/2013|2022-08-16 11:11:00|           1|\n",
            "|          16|             1|           16|        13|     13|     22/8/2011|2022-08-16 10:00:00|           0|\n",
            "|          17|             1|           17|        15|     19|     22/8/2011|2022-08-16 18:00:00|           6|\n",
            "|          18|            11|           18|        16|      4|     15/7/2013|2022-08-16 15:00:00|           1|\n",
            "|          19|             8|           19|        24|     27|      9/7/2013|2022-08-16 16:00:00|           0|\n",
            "|          20|            11|           20|         2|      2|     27/6/2013|2022-08-16 18:00:00|           3|\n",
            "+------------+--------------+-------------+----------+-------+--------------+-------------------+------------+\n",
            "only showing top 20 rows\n",
            "\n"
          ]
        }
      ]
    },
    {
      "cell_type": "code",
      "source": [
        "# Verificar o tipo de coluna\n",
        "\n",
        "df.printSchema()"
      ],
      "metadata": {
        "colab": {
          "base_uri": "https://localhost:8080/"
        },
        "id": "R8aEiP0LPHDn",
        "outputId": "68a561e2-98e7-46e5-bfa3-e160e0f20543"
      },
      "execution_count": 127,
      "outputs": [
        {
          "output_type": "stream",
          "name": "stdout",
          "text": [
            "root\n",
            " |-- ID_Devolucao: integer (nullable = true)\n",
            " |-- ID_Funcionario: integer (nullable = true)\n",
            " |-- ID_Emprestimo: integer (nullable = true)\n",
            " |-- ID_Estoque: integer (nullable = true)\n",
            " |-- ID_Obra: integer (nullable = true)\n",
            " |-- Data_Devolucao: string (nullable = true)\n",
            " |-- Hora_Devolucao: timestamp (nullable = true)\n",
            " |-- Multa_Atraso: integer (nullable = true)\n",
            "\n"
          ]
        }
      ]
    },
    {
      "cell_type": "code",
      "source": [
        "# Verificando dados nulos. Mandei transformar os dados para pandas, verificando se é nulo e fazer uma soma. \n",
        "\n",
        "df.toPandas().isna().sum"
      ],
      "metadata": {
        "colab": {
          "base_uri": "https://localhost:8080/"
        },
        "id": "aItNbas6PxCo",
        "outputId": "7201e4e1-33af-40a8-93f5-32bbcc375a6d"
      },
      "execution_count": 128,
      "outputs": [
        {
          "output_type": "execute_result",
          "data": {
            "text/plain": [
              "<bound method NDFrame._add_numeric_operations.<locals>.sum of     ID_Devolucao  ID_Funcionario  ID_Emprestimo  ID_Estoque  ID_Obra  \\\n",
              "0          False           False          False       False    False   \n",
              "1          False           False          False       False    False   \n",
              "2          False           False          False       False    False   \n",
              "3          False           False          False       False    False   \n",
              "4          False           False          False       False    False   \n",
              "5          False           False          False       False    False   \n",
              "6          False           False          False       False    False   \n",
              "7          False           False          False       False    False   \n",
              "8          False           False          False       False    False   \n",
              "9          False           False          False       False    False   \n",
              "10         False           False          False       False    False   \n",
              "11         False           False          False       False    False   \n",
              "12         False           False          False       False    False   \n",
              "13         False           False          False       False    False   \n",
              "14         False           False          False       False    False   \n",
              "15         False           False          False       False    False   \n",
              "16         False           False          False       False    False   \n",
              "17         False           False          False       False    False   \n",
              "18         False           False          False       False    False   \n",
              "19         False           False          False       False    False   \n",
              "20         False           False          False       False    False   \n",
              "21         False           False          False       False    False   \n",
              "22         False           False          False       False    False   \n",
              "23         False           False          False       False    False   \n",
              "24         False           False          False       False    False   \n",
              "25         False           False          False       False    False   \n",
              "26         False           False          False       False    False   \n",
              "27         False           False          False       False    False   \n",
              "28         False           False          False       False    False   \n",
              "\n",
              "    Data_Devolucao  Hora_Devolucao  Multa_Atraso  \n",
              "0            False           False         False  \n",
              "1            False           False         False  \n",
              "2            False           False         False  \n",
              "3            False           False         False  \n",
              "4            False           False         False  \n",
              "5            False           False         False  \n",
              "6            False           False         False  \n",
              "7            False           False         False  \n",
              "8            False           False         False  \n",
              "9            False           False         False  \n",
              "10           False           False         False  \n",
              "11           False           False         False  \n",
              "12           False           False         False  \n",
              "13           False           False         False  \n",
              "14           False           False         False  \n",
              "15           False           False         False  \n",
              "16           False           False         False  \n",
              "17           False           False         False  \n",
              "18           False           False         False  \n",
              "19           False           False         False  \n",
              "20           False           False         False  \n",
              "21           False           False         False  \n",
              "22           False           False         False  \n",
              "23           False           False         False  \n",
              "24           False           False         False  \n",
              "25           False           False         False  \n",
              "26           False           False         False  \n",
              "27           False           False         False  \n",
              "28           False           False         False  >"
            ]
          },
          "metadata": {},
          "execution_count": 128
        }
      ]
    },
    {
      "cell_type": "code",
      "source": [
        "# Forma de verificar se existe valores nulos sem precisar transformar para o Pandas:\n",
        "\n",
        "for coluna in df.columns:\n",
        "  print(coluna, df.filter(df[coluna].isNull()).count())"
      ],
      "metadata": {
        "colab": {
          "base_uri": "https://localhost:8080/"
        },
        "id": "cbseraq2SEPB",
        "outputId": "f6d38d18-dbf2-4841-e711-5d95a84f132e"
      },
      "execution_count": 129,
      "outputs": [
        {
          "output_type": "stream",
          "name": "stdout",
          "text": [
            "ID_Devolucao 0\n",
            "ID_Funcionario 0\n",
            "ID_Emprestimo 0\n",
            "ID_Estoque 0\n",
            "ID_Obra 0\n",
            "Data_Devolucao 0\n",
            "Hora_Devolucao 0\n",
            "Multa_Atraso 0\n"
          ]
        }
      ]
    },
    {
      "cell_type": "code",
      "source": [
        "# Renomeando colunas. O comando withColumnRenamed pode ser usado para esse procedimento:\n",
        "\n",
        "df.withColumnRenamed('Data_Devolucao', 'data_devolucao').show()     # o .show é utilizado para mostrar o resultado, já podendo analisar se o procedimento deu certo ou não. \n"
      ],
      "metadata": {
        "colab": {
          "base_uri": "https://localhost:8080/"
        },
        "id": "5KbvIfZ5Ut3h",
        "outputId": "481ae463-8991-4141-94a0-5d7f30f72b7f"
      },
      "execution_count": 130,
      "outputs": [
        {
          "output_type": "stream",
          "name": "stdout",
          "text": [
            "+------------+--------------+-------------+----------+-------+--------------+-------------------+------------+\n",
            "|ID_Devolucao|ID_Funcionario|ID_Emprestimo|ID_Estoque|ID_Obra|data_devolucao|     Hora_Devolucao|Multa_Atraso|\n",
            "+------------+--------------+-------------+----------+-------+--------------+-------------------+------------+\n",
            "|           1|             1|            1|        21|     10|     17/8/2011|2022-08-16 18:00:00|          10|\n",
            "|           2|             8|            2|        14|     14|     28/9/2011|2022-08-16 13:00:00|           0|\n",
            "|           3|             8|            3|        11|     18|     13/7/2011|2022-08-16 14:55:00|           2|\n",
            "|           4|             8|            4|        30|     17|     20/8/2011|2022-08-16 12:01:00|           3|\n",
            "|           5|             1|            5|         1|     23|     11/6/2011|2022-08-16 10:00:00|           0|\n",
            "|           6|             8|            6|         5|     24|     22/8/2011|2022-08-16 14:55:00|           4|\n",
            "|           7|             1|            7|         7|     21|     27/3/2012|2022-08-16 13:00:00|           0|\n",
            "|           8|             8|            8|        18|      6|     21/8/2011|2022-08-16 14:55:00|           0|\n",
            "|           9|             8|            9|        10|     30|      3/4/2012|2022-08-16 10:00:00|           1|\n",
            "|          10|             1|           10|        27|      9|     21/8/2011|2022-08-16 18:00:00|           2|\n",
            "|          11|             8|           11|        22|     11|     31/3/2012|2022-08-16 14:29:00|           0|\n",
            "|          12|             1|           12|         3|     25|     23/8/2011|2022-08-16 17:54:00|           1|\n",
            "|          13|             1|           13|        29|     16|      2/4/2012|2022-08-16 08:36:00|           0|\n",
            "|          14|             1|           14|         4|      1|      3/4/2012|2022-08-16 16:30:00|           0|\n",
            "|          15|             8|           15|        23|     26|     30/6/2013|2022-08-16 11:11:00|           1|\n",
            "|          16|             1|           16|        13|     13|     22/8/2011|2022-08-16 10:00:00|           0|\n",
            "|          17|             1|           17|        15|     19|     22/8/2011|2022-08-16 18:00:00|           6|\n",
            "|          18|            11|           18|        16|      4|     15/7/2013|2022-08-16 15:00:00|           1|\n",
            "|          19|             8|           19|        24|     27|      9/7/2013|2022-08-16 16:00:00|           0|\n",
            "|          20|            11|           20|         2|      2|     27/6/2013|2022-08-16 18:00:00|           3|\n",
            "+------------+--------------+-------------+----------+-------+--------------+-------------------+------------+\n",
            "only showing top 20 rows\n",
            "\n"
          ]
        }
      ]
    },
    {
      "cell_type": "code",
      "source": [
        "# No spark, o dataframe é imutável, ou seja, depois de criado, não poderá ser alterado. Uma solução para isso seria criar uma nova versão do dataframe:\n",
        "\n",
        "df = df.withColumnRenamed('Data_Devolucao', 'data_devolucao')\n",
        "\n",
        "df.show()"
      ],
      "metadata": {
        "colab": {
          "base_uri": "https://localhost:8080/"
        },
        "id": "Lrp2HDlaXAMJ",
        "outputId": "7111a823-c0e7-407b-bb98-58aefd8d693c"
      },
      "execution_count": 131,
      "outputs": [
        {
          "output_type": "stream",
          "name": "stdout",
          "text": [
            "+------------+--------------+-------------+----------+-------+--------------+-------------------+------------+\n",
            "|ID_Devolucao|ID_Funcionario|ID_Emprestimo|ID_Estoque|ID_Obra|data_devolucao|     Hora_Devolucao|Multa_Atraso|\n",
            "+------------+--------------+-------------+----------+-------+--------------+-------------------+------------+\n",
            "|           1|             1|            1|        21|     10|     17/8/2011|2022-08-16 18:00:00|          10|\n",
            "|           2|             8|            2|        14|     14|     28/9/2011|2022-08-16 13:00:00|           0|\n",
            "|           3|             8|            3|        11|     18|     13/7/2011|2022-08-16 14:55:00|           2|\n",
            "|           4|             8|            4|        30|     17|     20/8/2011|2022-08-16 12:01:00|           3|\n",
            "|           5|             1|            5|         1|     23|     11/6/2011|2022-08-16 10:00:00|           0|\n",
            "|           6|             8|            6|         5|     24|     22/8/2011|2022-08-16 14:55:00|           4|\n",
            "|           7|             1|            7|         7|     21|     27/3/2012|2022-08-16 13:00:00|           0|\n",
            "|           8|             8|            8|        18|      6|     21/8/2011|2022-08-16 14:55:00|           0|\n",
            "|           9|             8|            9|        10|     30|      3/4/2012|2022-08-16 10:00:00|           1|\n",
            "|          10|             1|           10|        27|      9|     21/8/2011|2022-08-16 18:00:00|           2|\n",
            "|          11|             8|           11|        22|     11|     31/3/2012|2022-08-16 14:29:00|           0|\n",
            "|          12|             1|           12|         3|     25|     23/8/2011|2022-08-16 17:54:00|           1|\n",
            "|          13|             1|           13|        29|     16|      2/4/2012|2022-08-16 08:36:00|           0|\n",
            "|          14|             1|           14|         4|      1|      3/4/2012|2022-08-16 16:30:00|           0|\n",
            "|          15|             8|           15|        23|     26|     30/6/2013|2022-08-16 11:11:00|           1|\n",
            "|          16|             1|           16|        13|     13|     22/8/2011|2022-08-16 10:00:00|           0|\n",
            "|          17|             1|           17|        15|     19|     22/8/2011|2022-08-16 18:00:00|           6|\n",
            "|          18|            11|           18|        16|      4|     15/7/2013|2022-08-16 15:00:00|           1|\n",
            "|          19|             8|           19|        24|     27|      9/7/2013|2022-08-16 16:00:00|           0|\n",
            "|          20|            11|           20|         2|      2|     27/6/2013|2022-08-16 18:00:00|           3|\n",
            "+------------+--------------+-------------+----------+-------+--------------+-------------------+------------+\n",
            "only showing top 20 rows\n",
            "\n"
          ]
        }
      ]
    },
    {
      "cell_type": "code",
      "source": [
        "# Selecionando colunas:\n",
        "\n",
        "df.select('Id_Devolucao', 'Id_Funcionario')"
      ],
      "metadata": {
        "colab": {
          "base_uri": "https://localhost:8080/"
        },
        "id": "MU5gpAPXW9pc",
        "outputId": "57c255e4-7909-467e-bd61-35db72c6682b"
      },
      "execution_count": 132,
      "outputs": [
        {
          "output_type": "execute_result",
          "data": {
            "text/plain": [
              "DataFrame[Id_Devolucao: int, Id_Funcionario: int]"
            ]
          },
          "metadata": {},
          "execution_count": 132
        }
      ]
    },
    {
      "cell_type": "code",
      "source": [
        "# Outras formas de selecionar colunas:\n",
        "\n",
        "df.select(col('Hora_Devolucao').alias('Hora da Devolução'), col('Multa_Atraso').alias('Multa por Atraso')).show()     # incluindo alias(apelidos)"
      ],
      "metadata": {
        "colab": {
          "base_uri": "https://localhost:8080/"
        },
        "id": "oy-9xVmGY1F0",
        "outputId": "5242245b-68cd-4c85-ca3e-6e0a3f45d57d"
      },
      "execution_count": 133,
      "outputs": [
        {
          "output_type": "stream",
          "name": "stdout",
          "text": [
            "+-------------------+----------------+\n",
            "|  Hora da Devolução|Multa por Atraso|\n",
            "+-------------------+----------------+\n",
            "|2022-08-16 18:00:00|              10|\n",
            "|2022-08-16 13:00:00|               0|\n",
            "|2022-08-16 14:55:00|               2|\n",
            "|2022-08-16 12:01:00|               3|\n",
            "|2022-08-16 10:00:00|               0|\n",
            "|2022-08-16 14:55:00|               4|\n",
            "|2022-08-16 13:00:00|               0|\n",
            "|2022-08-16 14:55:00|               0|\n",
            "|2022-08-16 10:00:00|               1|\n",
            "|2022-08-16 18:00:00|               2|\n",
            "|2022-08-16 14:29:00|               0|\n",
            "|2022-08-16 17:54:00|               1|\n",
            "|2022-08-16 08:36:00|               0|\n",
            "|2022-08-16 16:30:00|               0|\n",
            "|2022-08-16 11:11:00|               1|\n",
            "|2022-08-16 10:00:00|               0|\n",
            "|2022-08-16 18:00:00|               6|\n",
            "|2022-08-16 15:00:00|               1|\n",
            "|2022-08-16 16:00:00|               0|\n",
            "|2022-08-16 18:00:00|               3|\n",
            "+-------------------+----------------+\n",
            "only showing top 20 rows\n",
            "\n"
          ]
        }
      ]
    },
    {
      "cell_type": "code",
      "source": [
        "# Uma outra forma de fazer um select, é colocando o nome do dataframe. Dessa forma:\n",
        "\n",
        "df.select(df['Id_Devolucao'].alias('Id de Devolução'), df['Id_Funcionario'].alias('Id do Funcionário'))"
      ],
      "metadata": {
        "colab": {
          "base_uri": "https://localhost:8080/"
        },
        "id": "Jblzo2jnXmvf",
        "outputId": "065072c1-797e-4c2c-f668-3763b63826ac"
      },
      "execution_count": 134,
      "outputs": [
        {
          "output_type": "execute_result",
          "data": {
            "text/plain": [
              "DataFrame[Id de Devolução: int, Id do Funcionário: int]"
            ]
          },
          "metadata": {},
          "execution_count": 134
        }
      ]
    },
    {
      "cell_type": "code",
      "source": [
        "# Organizando um select:\n",
        "\n",
        "df.select(col('Multa_Atraso'), col('Data_Devolucao')).show()\n",
        "\n",
        "# Assim como no SQL, é possível mandar selecionar as colunas na ordem que desejar. "
      ],
      "metadata": {
        "colab": {
          "base_uri": "https://localhost:8080/"
        },
        "id": "5h8RTcKJZ0gY",
        "outputId": "441aeaa2-b558-45a5-e3ee-ea5ad8067e8c"
      },
      "execution_count": 135,
      "outputs": [
        {
          "output_type": "stream",
          "name": "stdout",
          "text": [
            "+------------+--------------+\n",
            "|Multa_Atraso|Data_Devolucao|\n",
            "+------------+--------------+\n",
            "|          10|     17/8/2011|\n",
            "|           0|     28/9/2011|\n",
            "|           2|     13/7/2011|\n",
            "|           3|     20/8/2011|\n",
            "|           0|     11/6/2011|\n",
            "|           4|     22/8/2011|\n",
            "|           0|     27/3/2012|\n",
            "|           0|     21/8/2011|\n",
            "|           1|      3/4/2012|\n",
            "|           2|     21/8/2011|\n",
            "|           0|     31/3/2012|\n",
            "|           1|     23/8/2011|\n",
            "|           0|      2/4/2012|\n",
            "|           0|      3/4/2012|\n",
            "|           1|     30/6/2013|\n",
            "|           0|     22/8/2011|\n",
            "|           6|     22/8/2011|\n",
            "|           1|     15/7/2013|\n",
            "|           0|      9/7/2013|\n",
            "|           3|     27/6/2013|\n",
            "+------------+--------------+\n",
            "only showing top 20 rows\n",
            "\n"
          ]
        }
      ]
    },
    {
      "cell_type": "code",
      "source": [
        "#Realizando filtros. Para isso, usa-se o parametro df.filter:\n",
        "         \n",
        "df.orderBy(['Hora_devolucao'], ascending=True).show()"
      ],
      "metadata": {
        "colab": {
          "base_uri": "https://localhost:8080/"
        },
        "id": "tsclVT_-dU5T",
        "outputId": "857a2e3f-0f4d-415e-c348-faba87353a25"
      },
      "execution_count": 136,
      "outputs": [
        {
          "output_type": "stream",
          "name": "stdout",
          "text": [
            "+------------+--------------+-------------+----------+-------+--------------+-------------------+------------+\n",
            "|ID_Devolucao|ID_Funcionario|ID_Emprestimo|ID_Estoque|ID_Obra|data_devolucao|     Hora_Devolucao|Multa_Atraso|\n",
            "+------------+--------------+-------------+----------+-------+--------------+-------------------+------------+\n",
            "|          13|             1|           13|        29|     16|      2/4/2012|2022-08-16 08:36:00|           0|\n",
            "|           9|             8|            9|        10|     30|      3/4/2012|2022-08-16 10:00:00|           1|\n",
            "|           5|             1|            5|         1|     23|     11/6/2011|2022-08-16 10:00:00|           0|\n",
            "|          16|             1|           16|        13|     13|     22/8/2011|2022-08-16 10:00:00|           0|\n",
            "|          28|            11|           28|        12|     29|      2/2/2013|2022-08-16 10:00:00|           1|\n",
            "|          15|             8|           15|        23|     26|     30/6/2013|2022-08-16 11:11:00|           1|\n",
            "|          26|             8|           26|        26|      8|      9/7/2013|2022-08-16 12:00:00|           1|\n",
            "|           4|             8|            4|        30|     17|     20/8/2011|2022-08-16 12:01:00|           3|\n",
            "|           2|             8|            2|        14|     14|     28/9/2011|2022-08-16 13:00:00|           0|\n",
            "|           7|             1|            7|         7|     21|     27/3/2012|2022-08-16 13:00:00|           0|\n",
            "|          27|            11|           27|         8|     27|      2/2/2013|2022-08-16 14:00:00|           1|\n",
            "|          11|             8|           11|        22|     11|     31/3/2012|2022-08-16 14:29:00|           0|\n",
            "|           6|             8|            6|         5|     24|     22/8/2011|2022-08-16 14:55:00|           4|\n",
            "|           8|             8|            8|        18|      6|     21/8/2011|2022-08-16 14:55:00|           0|\n",
            "|           3|             8|            3|        11|     18|     13/7/2011|2022-08-16 14:55:00|           2|\n",
            "|          21|             8|           21|        19|     20|      4/1/2013|2022-08-16 15:00:00|           1|\n",
            "|          25|             8|           25|        17|      5|      9/7/2013|2022-08-16 15:00:00|           0|\n",
            "|          18|            11|           18|        16|      4|     15/7/2013|2022-08-16 15:00:00|           1|\n",
            "|          19|             8|           19|        24|     27|      9/7/2013|2022-08-16 16:00:00|           0|\n",
            "|          22|             8|           22|        20|     22|     27/6/2013|2022-08-16 16:00:00|           1|\n",
            "+------------+--------------+-------------+----------+-------+--------------+-------------------+------------+\n",
            "only showing top 20 rows\n",
            "\n"
          ]
        }
      ]
    },
    {
      "cell_type": "code",
      "source": [
        "# Filtrando DataFrames com a condição AND (&)\n",
        "\n",
        "df.filter((col('Id_Funcionario') == 1) & (col('Hora_Devolucao') >= '2022-08-15')).show()"
      ],
      "metadata": {
        "colab": {
          "base_uri": "https://localhost:8080/"
        },
        "id": "j29YupzhdBxM",
        "outputId": "2cc66b53-a4b0-418f-fca8-5cb6940fe8a6"
      },
      "execution_count": 137,
      "outputs": [
        {
          "output_type": "stream",
          "name": "stdout",
          "text": [
            "+------------+--------------+-------------+----------+-------+--------------+-------------------+------------+\n",
            "|ID_Devolucao|ID_Funcionario|ID_Emprestimo|ID_Estoque|ID_Obra|data_devolucao|     Hora_Devolucao|Multa_Atraso|\n",
            "+------------+--------------+-------------+----------+-------+--------------+-------------------+------------+\n",
            "|           1|             1|            1|        21|     10|     17/8/2011|2022-08-16 18:00:00|          10|\n",
            "|           5|             1|            5|         1|     23|     11/6/2011|2022-08-16 10:00:00|           0|\n",
            "|           7|             1|            7|         7|     21|     27/3/2012|2022-08-16 13:00:00|           0|\n",
            "|          10|             1|           10|        27|      9|     21/8/2011|2022-08-16 18:00:00|           2|\n",
            "|          12|             1|           12|         3|     25|     23/8/2011|2022-08-16 17:54:00|           1|\n",
            "|          13|             1|           13|        29|     16|      2/4/2012|2022-08-16 08:36:00|           0|\n",
            "|          14|             1|           14|         4|      1|      3/4/2012|2022-08-16 16:30:00|           0|\n",
            "|          16|             1|           16|        13|     13|     22/8/2011|2022-08-16 10:00:00|           0|\n",
            "|          17|             1|           17|        15|     19|     22/8/2011|2022-08-16 18:00:00|           6|\n",
            "+------------+--------------+-------------+----------+-------+--------------+-------------------+------------+\n",
            "\n"
          ]
        }
      ]
    },
    {
      "cell_type": "code",
      "source": [
        "df.show()"
      ],
      "metadata": {
        "id": "zn8WP31Sc0bh",
        "colab": {
          "base_uri": "https://localhost:8080/"
        },
        "outputId": "e30697df-eded-4220-93a9-d7a4f3dd0470"
      },
      "execution_count": 138,
      "outputs": [
        {
          "output_type": "stream",
          "name": "stdout",
          "text": [
            "+------------+--------------+-------------+----------+-------+--------------+-------------------+------------+\n",
            "|ID_Devolucao|ID_Funcionario|ID_Emprestimo|ID_Estoque|ID_Obra|data_devolucao|     Hora_Devolucao|Multa_Atraso|\n",
            "+------------+--------------+-------------+----------+-------+--------------+-------------------+------------+\n",
            "|           1|             1|            1|        21|     10|     17/8/2011|2022-08-16 18:00:00|          10|\n",
            "|           2|             8|            2|        14|     14|     28/9/2011|2022-08-16 13:00:00|           0|\n",
            "|           3|             8|            3|        11|     18|     13/7/2011|2022-08-16 14:55:00|           2|\n",
            "|           4|             8|            4|        30|     17|     20/8/2011|2022-08-16 12:01:00|           3|\n",
            "|           5|             1|            5|         1|     23|     11/6/2011|2022-08-16 10:00:00|           0|\n",
            "|           6|             8|            6|         5|     24|     22/8/2011|2022-08-16 14:55:00|           4|\n",
            "|           7|             1|            7|         7|     21|     27/3/2012|2022-08-16 13:00:00|           0|\n",
            "|           8|             8|            8|        18|      6|     21/8/2011|2022-08-16 14:55:00|           0|\n",
            "|           9|             8|            9|        10|     30|      3/4/2012|2022-08-16 10:00:00|           1|\n",
            "|          10|             1|           10|        27|      9|     21/8/2011|2022-08-16 18:00:00|           2|\n",
            "|          11|             8|           11|        22|     11|     31/3/2012|2022-08-16 14:29:00|           0|\n",
            "|          12|             1|           12|         3|     25|     23/8/2011|2022-08-16 17:54:00|           1|\n",
            "|          13|             1|           13|        29|     16|      2/4/2012|2022-08-16 08:36:00|           0|\n",
            "|          14|             1|           14|         4|      1|      3/4/2012|2022-08-16 16:30:00|           0|\n",
            "|          15|             8|           15|        23|     26|     30/6/2013|2022-08-16 11:11:00|           1|\n",
            "|          16|             1|           16|        13|     13|     22/8/2011|2022-08-16 10:00:00|           0|\n",
            "|          17|             1|           17|        15|     19|     22/8/2011|2022-08-16 18:00:00|           6|\n",
            "|          18|            11|           18|        16|      4|     15/7/2013|2022-08-16 15:00:00|           1|\n",
            "|          19|             8|           19|        24|     27|      9/7/2013|2022-08-16 16:00:00|           0|\n",
            "|          20|            11|           20|         2|      2|     27/6/2013|2022-08-16 18:00:00|           3|\n",
            "+------------+--------------+-------------+----------+-------+--------------+-------------------+------------+\n",
            "only showing top 20 rows\n",
            "\n"
          ]
        }
      ]
    },
    {
      "cell_type": "code",
      "source": [
        "# Filtrando DataFrames com a condição OR (/)\n",
        "\n",
        "df.filter((col('Id_Funcionario') == 1) | (col('data_devolucao') == '30/06/2013') | (col('Hora_Devolucao') >= '2022-08-15')).show()"
      ],
      "metadata": {
        "colab": {
          "base_uri": "https://localhost:8080/"
        },
        "id": "Zrku7r_s0j1d",
        "outputId": "6f0b1152-4239-4959-fb16-43f53c1138a7"
      },
      "execution_count": 139,
      "outputs": [
        {
          "output_type": "stream",
          "name": "stdout",
          "text": [
            "+------------+--------------+-------------+----------+-------+--------------+-------------------+------------+\n",
            "|ID_Devolucao|ID_Funcionario|ID_Emprestimo|ID_Estoque|ID_Obra|data_devolucao|     Hora_Devolucao|Multa_Atraso|\n",
            "+------------+--------------+-------------+----------+-------+--------------+-------------------+------------+\n",
            "|           1|             1|            1|        21|     10|     17/8/2011|2022-08-16 18:00:00|          10|\n",
            "|           2|             8|            2|        14|     14|     28/9/2011|2022-08-16 13:00:00|           0|\n",
            "|           3|             8|            3|        11|     18|     13/7/2011|2022-08-16 14:55:00|           2|\n",
            "|           4|             8|            4|        30|     17|     20/8/2011|2022-08-16 12:01:00|           3|\n",
            "|           5|             1|            5|         1|     23|     11/6/2011|2022-08-16 10:00:00|           0|\n",
            "|           6|             8|            6|         5|     24|     22/8/2011|2022-08-16 14:55:00|           4|\n",
            "|           7|             1|            7|         7|     21|     27/3/2012|2022-08-16 13:00:00|           0|\n",
            "|           8|             8|            8|        18|      6|     21/8/2011|2022-08-16 14:55:00|           0|\n",
            "|           9|             8|            9|        10|     30|      3/4/2012|2022-08-16 10:00:00|           1|\n",
            "|          10|             1|           10|        27|      9|     21/8/2011|2022-08-16 18:00:00|           2|\n",
            "|          11|             8|           11|        22|     11|     31/3/2012|2022-08-16 14:29:00|           0|\n",
            "|          12|             1|           12|         3|     25|     23/8/2011|2022-08-16 17:54:00|           1|\n",
            "|          13|             1|           13|        29|     16|      2/4/2012|2022-08-16 08:36:00|           0|\n",
            "|          14|             1|           14|         4|      1|      3/4/2012|2022-08-16 16:30:00|           0|\n",
            "|          15|             8|           15|        23|     26|     30/6/2013|2022-08-16 11:11:00|           1|\n",
            "|          16|             1|           16|        13|     13|     22/8/2011|2022-08-16 10:00:00|           0|\n",
            "|          17|             1|           17|        15|     19|     22/8/2011|2022-08-16 18:00:00|           6|\n",
            "|          18|            11|           18|        16|      4|     15/7/2013|2022-08-16 15:00:00|           1|\n",
            "|          19|             8|           19|        24|     27|      9/7/2013|2022-08-16 16:00:00|           0|\n",
            "|          20|            11|           20|         2|      2|     27/6/2013|2022-08-16 18:00:00|           3|\n",
            "+------------+--------------+-------------+----------+-------+--------------+-------------------+------------+\n",
            "only showing top 20 rows\n",
            "\n"
          ]
        }
      ]
    },
    {
      "cell_type": "code",
      "source": [
        "# Filtrando um Dataframe combinando &(AND) e |(OR)\n",
        "\n",
        "df.filter((col('Id_Funcionario') == 1) & (col('data_devolucao') == '22/8/2011') | (col('Id_Funcionario') == 11) & (col('data_devolucao') == '15/7/2013')).show() "
      ],
      "metadata": {
        "colab": {
          "base_uri": "https://localhost:8080/"
        },
        "id": "wshdKQBR3pCG",
        "outputId": "74970518-1d46-4be7-9b4c-c938d6e7d3ec"
      },
      "execution_count": 140,
      "outputs": [
        {
          "output_type": "stream",
          "name": "stdout",
          "text": [
            "+------------+--------------+-------------+----------+-------+--------------+-------------------+------------+\n",
            "|ID_Devolucao|ID_Funcionario|ID_Emprestimo|ID_Estoque|ID_Obra|data_devolucao|     Hora_Devolucao|Multa_Atraso|\n",
            "+------------+--------------+-------------+----------+-------+--------------+-------------------+------------+\n",
            "|          16|             1|           16|        13|     13|     22/8/2011|2022-08-16 10:00:00|           0|\n",
            "|          17|             1|           17|        15|     19|     22/8/2011|2022-08-16 18:00:00|           6|\n",
            "|          18|            11|           18|        16|      4|     15/7/2013|2022-08-16 15:00:00|           1|\n",
            "+------------+--------------+-------------+----------+-------+--------------+-------------------+------------+\n",
            "\n"
          ]
        }
      ]
    },
    {
      "cell_type": "code",
      "source": [
        "# Criar novas colunas usando lit\n",
        "\n",
        "df.withColumn('Porcentagem_Multa', lit(15.5)).show()"
      ],
      "metadata": {
        "colab": {
          "base_uri": "https://localhost:8080/"
        },
        "id": "I2TQ5jCh8yEr",
        "outputId": "1780dfd5-b18e-4a45-a324-d173e701e608"
      },
      "execution_count": 141,
      "outputs": [
        {
          "output_type": "stream",
          "name": "stdout",
          "text": [
            "+------------+--------------+-------------+----------+-------+--------------+-------------------+------------+-----------------+\n",
            "|ID_Devolucao|ID_Funcionario|ID_Emprestimo|ID_Estoque|ID_Obra|data_devolucao|     Hora_Devolucao|Multa_Atraso|Porcentagem_Multa|\n",
            "+------------+--------------+-------------+----------+-------+--------------+-------------------+------------+-----------------+\n",
            "|           1|             1|            1|        21|     10|     17/8/2011|2022-08-16 18:00:00|          10|             15.5|\n",
            "|           2|             8|            2|        14|     14|     28/9/2011|2022-08-16 13:00:00|           0|             15.5|\n",
            "|           3|             8|            3|        11|     18|     13/7/2011|2022-08-16 14:55:00|           2|             15.5|\n",
            "|           4|             8|            4|        30|     17|     20/8/2011|2022-08-16 12:01:00|           3|             15.5|\n",
            "|           5|             1|            5|         1|     23|     11/6/2011|2022-08-16 10:00:00|           0|             15.5|\n",
            "|           6|             8|            6|         5|     24|     22/8/2011|2022-08-16 14:55:00|           4|             15.5|\n",
            "|           7|             1|            7|         7|     21|     27/3/2012|2022-08-16 13:00:00|           0|             15.5|\n",
            "|           8|             8|            8|        18|      6|     21/8/2011|2022-08-16 14:55:00|           0|             15.5|\n",
            "|           9|             8|            9|        10|     30|      3/4/2012|2022-08-16 10:00:00|           1|             15.5|\n",
            "|          10|             1|           10|        27|      9|     21/8/2011|2022-08-16 18:00:00|           2|             15.5|\n",
            "|          11|             8|           11|        22|     11|     31/3/2012|2022-08-16 14:29:00|           0|             15.5|\n",
            "|          12|             1|           12|         3|     25|     23/8/2011|2022-08-16 17:54:00|           1|             15.5|\n",
            "|          13|             1|           13|        29|     16|      2/4/2012|2022-08-16 08:36:00|           0|             15.5|\n",
            "|          14|             1|           14|         4|      1|      3/4/2012|2022-08-16 16:30:00|           0|             15.5|\n",
            "|          15|             8|           15|        23|     26|     30/6/2013|2022-08-16 11:11:00|           1|             15.5|\n",
            "|          16|             1|           16|        13|     13|     22/8/2011|2022-08-16 10:00:00|           0|             15.5|\n",
            "|          17|             1|           17|        15|     19|     22/8/2011|2022-08-16 18:00:00|           6|             15.5|\n",
            "|          18|            11|           18|        16|      4|     15/7/2013|2022-08-16 15:00:00|           1|             15.5|\n",
            "|          19|             8|           19|        24|     27|      9/7/2013|2022-08-16 16:00:00|           0|             15.5|\n",
            "|          20|            11|           20|         2|      2|     27/6/2013|2022-08-16 18:00:00|           3|             15.5|\n",
            "+------------+--------------+-------------+----------+-------+--------------+-------------------+------------+-----------------+\n",
            "only showing top 20 rows\n",
            "\n"
          ]
        }
      ]
    },
    {
      "cell_type": "code",
      "source": [
        "df.withColumn('Valor_Multa', lit(col('Multa_Atraso') + 0.10)).show()"
      ],
      "metadata": {
        "colab": {
          "base_uri": "https://localhost:8080/"
        },
        "id": "SYbS6P6v-9B1",
        "outputId": "f60893dc-7c7f-4a2f-f606-7687e6eb0adf"
      },
      "execution_count": 142,
      "outputs": [
        {
          "output_type": "stream",
          "name": "stdout",
          "text": [
            "+------------+--------------+-------------+----------+-------+--------------+-------------------+------------+-----------+\n",
            "|ID_Devolucao|ID_Funcionario|ID_Emprestimo|ID_Estoque|ID_Obra|data_devolucao|     Hora_Devolucao|Multa_Atraso|Valor_Multa|\n",
            "+------------+--------------+-------------+----------+-------+--------------+-------------------+------------+-----------+\n",
            "|           1|             1|            1|        21|     10|     17/8/2011|2022-08-16 18:00:00|          10|       10.1|\n",
            "|           2|             8|            2|        14|     14|     28/9/2011|2022-08-16 13:00:00|           0|        0.1|\n",
            "|           3|             8|            3|        11|     18|     13/7/2011|2022-08-16 14:55:00|           2|        2.1|\n",
            "|           4|             8|            4|        30|     17|     20/8/2011|2022-08-16 12:01:00|           3|        3.1|\n",
            "|           5|             1|            5|         1|     23|     11/6/2011|2022-08-16 10:00:00|           0|        0.1|\n",
            "|           6|             8|            6|         5|     24|     22/8/2011|2022-08-16 14:55:00|           4|        4.1|\n",
            "|           7|             1|            7|         7|     21|     27/3/2012|2022-08-16 13:00:00|           0|        0.1|\n",
            "|           8|             8|            8|        18|      6|     21/8/2011|2022-08-16 14:55:00|           0|        0.1|\n",
            "|           9|             8|            9|        10|     30|      3/4/2012|2022-08-16 10:00:00|           1|        1.1|\n",
            "|          10|             1|           10|        27|      9|     21/8/2011|2022-08-16 18:00:00|           2|        2.1|\n",
            "|          11|             8|           11|        22|     11|     31/3/2012|2022-08-16 14:29:00|           0|        0.1|\n",
            "|          12|             1|           12|         3|     25|     23/8/2011|2022-08-16 17:54:00|           1|        1.1|\n",
            "|          13|             1|           13|        29|     16|      2/4/2012|2022-08-16 08:36:00|           0|        0.1|\n",
            "|          14|             1|           14|         4|      1|      3/4/2012|2022-08-16 16:30:00|           0|        0.1|\n",
            "|          15|             8|           15|        23|     26|     30/6/2013|2022-08-16 11:11:00|           1|        1.1|\n",
            "|          16|             1|           16|        13|     13|     22/8/2011|2022-08-16 10:00:00|           0|        0.1|\n",
            "|          17|             1|           17|        15|     19|     22/8/2011|2022-08-16 18:00:00|           6|        6.1|\n",
            "|          18|            11|           18|        16|      4|     15/7/2013|2022-08-16 15:00:00|           1|        1.1|\n",
            "|          19|             8|           19|        24|     27|      9/7/2013|2022-08-16 16:00:00|           0|        0.1|\n",
            "|          20|            11|           20|         2|      2|     27/6/2013|2022-08-16 18:00:00|           3|        3.1|\n",
            "+------------+--------------+-------------+----------+-------+--------------+-------------------+------------+-----------+\n",
            "only showing top 20 rows\n",
            "\n"
          ]
        }
      ]
    },
    {
      "cell_type": "code",
      "source": [
        "df.show()"
      ],
      "metadata": {
        "colab": {
          "base_uri": "https://localhost:8080/"
        },
        "id": "NDgJ3LDrFXCH",
        "outputId": "52c875da-924c-4677-ff5f-3023b0ae2232"
      },
      "execution_count": 143,
      "outputs": [
        {
          "output_type": "stream",
          "name": "stdout",
          "text": [
            "+------------+--------------+-------------+----------+-------+--------------+-------------------+------------+\n",
            "|ID_Devolucao|ID_Funcionario|ID_Emprestimo|ID_Estoque|ID_Obra|data_devolucao|     Hora_Devolucao|Multa_Atraso|\n",
            "+------------+--------------+-------------+----------+-------+--------------+-------------------+------------+\n",
            "|           1|             1|            1|        21|     10|     17/8/2011|2022-08-16 18:00:00|          10|\n",
            "|           2|             8|            2|        14|     14|     28/9/2011|2022-08-16 13:00:00|           0|\n",
            "|           3|             8|            3|        11|     18|     13/7/2011|2022-08-16 14:55:00|           2|\n",
            "|           4|             8|            4|        30|     17|     20/8/2011|2022-08-16 12:01:00|           3|\n",
            "|           5|             1|            5|         1|     23|     11/6/2011|2022-08-16 10:00:00|           0|\n",
            "|           6|             8|            6|         5|     24|     22/8/2011|2022-08-16 14:55:00|           4|\n",
            "|           7|             1|            7|         7|     21|     27/3/2012|2022-08-16 13:00:00|           0|\n",
            "|           8|             8|            8|        18|      6|     21/8/2011|2022-08-16 14:55:00|           0|\n",
            "|           9|             8|            9|        10|     30|      3/4/2012|2022-08-16 10:00:00|           1|\n",
            "|          10|             1|           10|        27|      9|     21/8/2011|2022-08-16 18:00:00|           2|\n",
            "|          11|             8|           11|        22|     11|     31/3/2012|2022-08-16 14:29:00|           0|\n",
            "|          12|             1|           12|         3|     25|     23/8/2011|2022-08-16 17:54:00|           1|\n",
            "|          13|             1|           13|        29|     16|      2/4/2012|2022-08-16 08:36:00|           0|\n",
            "|          14|             1|           14|         4|      1|      3/4/2012|2022-08-16 16:30:00|           0|\n",
            "|          15|             8|           15|        23|     26|     30/6/2013|2022-08-16 11:11:00|           1|\n",
            "|          16|             1|           16|        13|     13|     22/8/2011|2022-08-16 10:00:00|           0|\n",
            "|          17|             1|           17|        15|     19|     22/8/2011|2022-08-16 18:00:00|           6|\n",
            "|          18|            11|           18|        16|      4|     15/7/2013|2022-08-16 15:00:00|           1|\n",
            "|          19|             8|           19|        24|     27|      9/7/2013|2022-08-16 16:00:00|           0|\n",
            "|          20|            11|           20|         2|      2|     27/6/2013|2022-08-16 18:00:00|           3|\n",
            "+------------+--------------+-------------+----------+-------+--------------+-------------------+------------+\n",
            "only showing top 20 rows\n",
            "\n"
          ]
        }
      ]
    },
    {
      "cell_type": "code",
      "source": [
        "# Criando uma coluna condicional (usando a função substring). Pode ser usado para abreviar dados como por exemplo: \n",
        "\n",
        "df.withColumn('Ano_Hora_Devolucao', substring('Hora_Devolucao', 1, 10)).show()"
      ],
      "metadata": {
        "colab": {
          "base_uri": "https://localhost:8080/"
        },
        "id": "svXPi3UMKqC7",
        "outputId": "be8aa945-7689-4bd5-a96e-dfeba1d13fdb"
      },
      "execution_count": 144,
      "outputs": [
        {
          "output_type": "stream",
          "name": "stdout",
          "text": [
            "+------------+--------------+-------------+----------+-------+--------------+-------------------+------------+------------------+\n",
            "|ID_Devolucao|ID_Funcionario|ID_Emprestimo|ID_Estoque|ID_Obra|data_devolucao|     Hora_Devolucao|Multa_Atraso|Ano_Hora_Devolucao|\n",
            "+------------+--------------+-------------+----------+-------+--------------+-------------------+------------+------------------+\n",
            "|           1|             1|            1|        21|     10|     17/8/2011|2022-08-16 18:00:00|          10|        2022-08-16|\n",
            "|           2|             8|            2|        14|     14|     28/9/2011|2022-08-16 13:00:00|           0|        2022-08-16|\n",
            "|           3|             8|            3|        11|     18|     13/7/2011|2022-08-16 14:55:00|           2|        2022-08-16|\n",
            "|           4|             8|            4|        30|     17|     20/8/2011|2022-08-16 12:01:00|           3|        2022-08-16|\n",
            "|           5|             1|            5|         1|     23|     11/6/2011|2022-08-16 10:00:00|           0|        2022-08-16|\n",
            "|           6|             8|            6|         5|     24|     22/8/2011|2022-08-16 14:55:00|           4|        2022-08-16|\n",
            "|           7|             1|            7|         7|     21|     27/3/2012|2022-08-16 13:00:00|           0|        2022-08-16|\n",
            "|           8|             8|            8|        18|      6|     21/8/2011|2022-08-16 14:55:00|           0|        2022-08-16|\n",
            "|           9|             8|            9|        10|     30|      3/4/2012|2022-08-16 10:00:00|           1|        2022-08-16|\n",
            "|          10|             1|           10|        27|      9|     21/8/2011|2022-08-16 18:00:00|           2|        2022-08-16|\n",
            "|          11|             8|           11|        22|     11|     31/3/2012|2022-08-16 14:29:00|           0|        2022-08-16|\n",
            "|          12|             1|           12|         3|     25|     23/8/2011|2022-08-16 17:54:00|           1|        2022-08-16|\n",
            "|          13|             1|           13|        29|     16|      2/4/2012|2022-08-16 08:36:00|           0|        2022-08-16|\n",
            "|          14|             1|           14|         4|      1|      3/4/2012|2022-08-16 16:30:00|           0|        2022-08-16|\n",
            "|          15|             8|           15|        23|     26|     30/6/2013|2022-08-16 11:11:00|           1|        2022-08-16|\n",
            "|          16|             1|           16|        13|     13|     22/8/2011|2022-08-16 10:00:00|           0|        2022-08-16|\n",
            "|          17|             1|           17|        15|     19|     22/8/2011|2022-08-16 18:00:00|           6|        2022-08-16|\n",
            "|          18|            11|           18|        16|      4|     15/7/2013|2022-08-16 15:00:00|           1|        2022-08-16|\n",
            "|          19|             8|           19|        24|     27|      9/7/2013|2022-08-16 16:00:00|           0|        2022-08-16|\n",
            "|          20|            11|           20|         2|      2|     27/6/2013|2022-08-16 18:00:00|           3|        2022-08-16|\n",
            "+------------+--------------+-------------+----------+-------+--------------+-------------------+------------+------------------+\n",
            "only showing top 20 rows\n",
            "\n"
          ]
        }
      ]
    },
    {
      "cell_type": "code",
      "source": [
        "# O dataframe por defalt, não sobrepoe uma coluna sobre a outra. Então a solução para manter as alterações feitas acima é criando um dataframe sobre o dataframe anterior:"
      ],
      "metadata": {
        "id": "MzpWPGSkMUw4"
      },
      "execution_count": 145,
      "outputs": []
    },
    {
      "cell_type": "code",
      "source": [
        "df = df.withColumn('Ano_Hora_Devolucao', substring('Hora_Devolucao', 1, 10))"
      ],
      "metadata": {
        "id": "BohsVeCENJRy"
      },
      "execution_count": 146,
      "outputs": []
    },
    {
      "cell_type": "code",
      "source": [
        "df.show()"
      ],
      "metadata": {
        "colab": {
          "base_uri": "https://localhost:8080/"
        },
        "id": "fJAC7iaaNRDB",
        "outputId": "94f7a06f-2a96-47bc-ea45-2408301cf4d5"
      },
      "execution_count": 147,
      "outputs": [
        {
          "output_type": "stream",
          "name": "stdout",
          "text": [
            "+------------+--------------+-------------+----------+-------+--------------+-------------------+------------+------------------+\n",
            "|ID_Devolucao|ID_Funcionario|ID_Emprestimo|ID_Estoque|ID_Obra|data_devolucao|     Hora_Devolucao|Multa_Atraso|Ano_Hora_Devolucao|\n",
            "+------------+--------------+-------------+----------+-------+--------------+-------------------+------------+------------------+\n",
            "|           1|             1|            1|        21|     10|     17/8/2011|2022-08-16 18:00:00|          10|        2022-08-16|\n",
            "|           2|             8|            2|        14|     14|     28/9/2011|2022-08-16 13:00:00|           0|        2022-08-16|\n",
            "|           3|             8|            3|        11|     18|     13/7/2011|2022-08-16 14:55:00|           2|        2022-08-16|\n",
            "|           4|             8|            4|        30|     17|     20/8/2011|2022-08-16 12:01:00|           3|        2022-08-16|\n",
            "|           5|             1|            5|         1|     23|     11/6/2011|2022-08-16 10:00:00|           0|        2022-08-16|\n",
            "|           6|             8|            6|         5|     24|     22/8/2011|2022-08-16 14:55:00|           4|        2022-08-16|\n",
            "|           7|             1|            7|         7|     21|     27/3/2012|2022-08-16 13:00:00|           0|        2022-08-16|\n",
            "|           8|             8|            8|        18|      6|     21/8/2011|2022-08-16 14:55:00|           0|        2022-08-16|\n",
            "|           9|             8|            9|        10|     30|      3/4/2012|2022-08-16 10:00:00|           1|        2022-08-16|\n",
            "|          10|             1|           10|        27|      9|     21/8/2011|2022-08-16 18:00:00|           2|        2022-08-16|\n",
            "|          11|             8|           11|        22|     11|     31/3/2012|2022-08-16 14:29:00|           0|        2022-08-16|\n",
            "|          12|             1|           12|         3|     25|     23/8/2011|2022-08-16 17:54:00|           1|        2022-08-16|\n",
            "|          13|             1|           13|        29|     16|      2/4/2012|2022-08-16 08:36:00|           0|        2022-08-16|\n",
            "|          14|             1|           14|         4|      1|      3/4/2012|2022-08-16 16:30:00|           0|        2022-08-16|\n",
            "|          15|             8|           15|        23|     26|     30/6/2013|2022-08-16 11:11:00|           1|        2022-08-16|\n",
            "|          16|             1|           16|        13|     13|     22/8/2011|2022-08-16 10:00:00|           0|        2022-08-16|\n",
            "|          17|             1|           17|        15|     19|     22/8/2011|2022-08-16 18:00:00|           6|        2022-08-16|\n",
            "|          18|            11|           18|        16|      4|     15/7/2013|2022-08-16 15:00:00|           1|        2022-08-16|\n",
            "|          19|             8|           19|        24|     27|      9/7/2013|2022-08-16 16:00:00|           0|        2022-08-16|\n",
            "|          20|            11|           20|         2|      2|     27/6/2013|2022-08-16 18:00:00|           3|        2022-08-16|\n",
            "+------------+--------------+-------------+----------+-------+--------------+-------------------+------------+------------------+\n",
            "only showing top 20 rows\n",
            "\n"
          ]
        }
      ]
    },
    {
      "cell_type": "code",
      "source": [
        "# Criar colunas condicionais (concat/concat_ws). Primeiro utilizando a forma contat:\n",
        "\n",
        "df.withColumn('Concat', concat('data_Devolucao', col('Multa_Atraso'))).show()"
      ],
      "metadata": {
        "colab": {
          "base_uri": "https://localhost:8080/"
        },
        "id": "r-AMiA-U5Oel",
        "outputId": "208e6fde-1197-4c77-edc9-3d6da3374f34"
      },
      "execution_count": 148,
      "outputs": [
        {
          "output_type": "stream",
          "name": "stdout",
          "text": [
            "+------------+--------------+-------------+----------+-------+--------------+-------------------+------------+------------------+-----------+\n",
            "|ID_Devolucao|ID_Funcionario|ID_Emprestimo|ID_Estoque|ID_Obra|data_devolucao|     Hora_Devolucao|Multa_Atraso|Ano_Hora_Devolucao|     Concat|\n",
            "+------------+--------------+-------------+----------+-------+--------------+-------------------+------------+------------------+-----------+\n",
            "|           1|             1|            1|        21|     10|     17/8/2011|2022-08-16 18:00:00|          10|        2022-08-16|17/8/201110|\n",
            "|           2|             8|            2|        14|     14|     28/9/2011|2022-08-16 13:00:00|           0|        2022-08-16| 28/9/20110|\n",
            "|           3|             8|            3|        11|     18|     13/7/2011|2022-08-16 14:55:00|           2|        2022-08-16| 13/7/20112|\n",
            "|           4|             8|            4|        30|     17|     20/8/2011|2022-08-16 12:01:00|           3|        2022-08-16| 20/8/20113|\n",
            "|           5|             1|            5|         1|     23|     11/6/2011|2022-08-16 10:00:00|           0|        2022-08-16| 11/6/20110|\n",
            "|           6|             8|            6|         5|     24|     22/8/2011|2022-08-16 14:55:00|           4|        2022-08-16| 22/8/20114|\n",
            "|           7|             1|            7|         7|     21|     27/3/2012|2022-08-16 13:00:00|           0|        2022-08-16| 27/3/20120|\n",
            "|           8|             8|            8|        18|      6|     21/8/2011|2022-08-16 14:55:00|           0|        2022-08-16| 21/8/20110|\n",
            "|           9|             8|            9|        10|     30|      3/4/2012|2022-08-16 10:00:00|           1|        2022-08-16|  3/4/20121|\n",
            "|          10|             1|           10|        27|      9|     21/8/2011|2022-08-16 18:00:00|           2|        2022-08-16| 21/8/20112|\n",
            "|          11|             8|           11|        22|     11|     31/3/2012|2022-08-16 14:29:00|           0|        2022-08-16| 31/3/20120|\n",
            "|          12|             1|           12|         3|     25|     23/8/2011|2022-08-16 17:54:00|           1|        2022-08-16| 23/8/20111|\n",
            "|          13|             1|           13|        29|     16|      2/4/2012|2022-08-16 08:36:00|           0|        2022-08-16|  2/4/20120|\n",
            "|          14|             1|           14|         4|      1|      3/4/2012|2022-08-16 16:30:00|           0|        2022-08-16|  3/4/20120|\n",
            "|          15|             8|           15|        23|     26|     30/6/2013|2022-08-16 11:11:00|           1|        2022-08-16| 30/6/20131|\n",
            "|          16|             1|           16|        13|     13|     22/8/2011|2022-08-16 10:00:00|           0|        2022-08-16| 22/8/20110|\n",
            "|          17|             1|           17|        15|     19|     22/8/2011|2022-08-16 18:00:00|           6|        2022-08-16| 22/8/20116|\n",
            "|          18|            11|           18|        16|      4|     15/7/2013|2022-08-16 15:00:00|           1|        2022-08-16| 15/7/20131|\n",
            "|          19|             8|           19|        24|     27|      9/7/2013|2022-08-16 16:00:00|           0|        2022-08-16|  9/7/20130|\n",
            "|          20|            11|           20|         2|      2|     27/6/2013|2022-08-16 18:00:00|           3|        2022-08-16| 27/6/20133|\n",
            "+------------+--------------+-------------+----------+-------+--------------+-------------------+------------+------------------+-----------+\n",
            "only showing top 20 rows\n",
            "\n"
          ]
        }
      ]
    },
    {
      "cell_type": "code",
      "source": [
        "# Outra forma é pelo concat_ws. Essa forma é mais adequada pois conseguimos deixar os dados mais organizados:\n",
        "\n",
        "df.withColumn('Separador', concat_ws(' - ', 'data_Devolucao','Multa_Atraso')).show()"
      ],
      "metadata": {
        "colab": {
          "base_uri": "https://localhost:8080/"
        },
        "id": "PSBWbunDu4H3",
        "outputId": "258a0b47-5df0-45d8-9339-5a6b12adffb0"
      },
      "execution_count": 149,
      "outputs": [
        {
          "output_type": "stream",
          "name": "stdout",
          "text": [
            "+------------+--------------+-------------+----------+-------+--------------+-------------------+------------+------------------+--------------+\n",
            "|ID_Devolucao|ID_Funcionario|ID_Emprestimo|ID_Estoque|ID_Obra|data_devolucao|     Hora_Devolucao|Multa_Atraso|Ano_Hora_Devolucao|     Separador|\n",
            "+------------+--------------+-------------+----------+-------+--------------+-------------------+------------+------------------+--------------+\n",
            "|           1|             1|            1|        21|     10|     17/8/2011|2022-08-16 18:00:00|          10|        2022-08-16|17/8/2011 - 10|\n",
            "|           2|             8|            2|        14|     14|     28/9/2011|2022-08-16 13:00:00|           0|        2022-08-16| 28/9/2011 - 0|\n",
            "|           3|             8|            3|        11|     18|     13/7/2011|2022-08-16 14:55:00|           2|        2022-08-16| 13/7/2011 - 2|\n",
            "|           4|             8|            4|        30|     17|     20/8/2011|2022-08-16 12:01:00|           3|        2022-08-16| 20/8/2011 - 3|\n",
            "|           5|             1|            5|         1|     23|     11/6/2011|2022-08-16 10:00:00|           0|        2022-08-16| 11/6/2011 - 0|\n",
            "|           6|             8|            6|         5|     24|     22/8/2011|2022-08-16 14:55:00|           4|        2022-08-16| 22/8/2011 - 4|\n",
            "|           7|             1|            7|         7|     21|     27/3/2012|2022-08-16 13:00:00|           0|        2022-08-16| 27/3/2012 - 0|\n",
            "|           8|             8|            8|        18|      6|     21/8/2011|2022-08-16 14:55:00|           0|        2022-08-16| 21/8/2011 - 0|\n",
            "|           9|             8|            9|        10|     30|      3/4/2012|2022-08-16 10:00:00|           1|        2022-08-16|  3/4/2012 - 1|\n",
            "|          10|             1|           10|        27|      9|     21/8/2011|2022-08-16 18:00:00|           2|        2022-08-16| 21/8/2011 - 2|\n",
            "|          11|             8|           11|        22|     11|     31/3/2012|2022-08-16 14:29:00|           0|        2022-08-16| 31/3/2012 - 0|\n",
            "|          12|             1|           12|         3|     25|     23/8/2011|2022-08-16 17:54:00|           1|        2022-08-16| 23/8/2011 - 1|\n",
            "|          13|             1|           13|        29|     16|      2/4/2012|2022-08-16 08:36:00|           0|        2022-08-16|  2/4/2012 - 0|\n",
            "|          14|             1|           14|         4|      1|      3/4/2012|2022-08-16 16:30:00|           0|        2022-08-16|  3/4/2012 - 0|\n",
            "|          15|             8|           15|        23|     26|     30/6/2013|2022-08-16 11:11:00|           1|        2022-08-16| 30/6/2013 - 1|\n",
            "|          16|             1|           16|        13|     13|     22/8/2011|2022-08-16 10:00:00|           0|        2022-08-16| 22/8/2011 - 0|\n",
            "|          17|             1|           17|        15|     19|     22/8/2011|2022-08-16 18:00:00|           6|        2022-08-16| 22/8/2011 - 6|\n",
            "|          18|            11|           18|        16|      4|     15/7/2013|2022-08-16 15:00:00|           1|        2022-08-16| 15/7/2013 - 1|\n",
            "|          19|             8|           19|        24|     27|      9/7/2013|2022-08-16 16:00:00|           0|        2022-08-16|  9/7/2013 - 0|\n",
            "|          20|            11|           20|         2|      2|     27/6/2013|2022-08-16 18:00:00|           3|        2022-08-16| 27/6/2013 - 3|\n",
            "+------------+--------------+-------------+----------+-------+--------------+-------------------+------------+------------------+--------------+\n",
            "only showing top 20 rows\n",
            "\n"
          ]
        }
      ]
    },
    {
      "cell_type": "code",
      "source": [
        "# Alterando o tipo de coluna \n",
        "\n",
        "df.withColumn('Hora_Devolucao', col('Hora_Devolucao').cast(IntegerType())).printSchema()"
      ],
      "metadata": {
        "colab": {
          "base_uri": "https://localhost:8080/"
        },
        "id": "rseGscv7xQcV",
        "outputId": "8a66b4f7-637c-458f-9ff5-9cbaa8ef3af5"
      },
      "execution_count": 150,
      "outputs": [
        {
          "output_type": "stream",
          "name": "stdout",
          "text": [
            "root\n",
            " |-- ID_Devolucao: integer (nullable = true)\n",
            " |-- ID_Funcionario: integer (nullable = true)\n",
            " |-- ID_Emprestimo: integer (nullable = true)\n",
            " |-- ID_Estoque: integer (nullable = true)\n",
            " |-- ID_Obra: integer (nullable = true)\n",
            " |-- data_devolucao: string (nullable = true)\n",
            " |-- Hora_Devolucao: integer (nullable = true)\n",
            " |-- Multa_Atraso: integer (nullable = true)\n",
            " |-- Ano_Hora_Devolucao: string (nullable = true)\n",
            "\n"
          ]
        }
      ]
    },
    {
      "cell_type": "code",
      "source": [
        "df.printSchema()\n",
        "\n",
        "# Feito o procedimento, verificamos que a alteração de coluna não foi feita de maneira definitiva. "
      ],
      "metadata": {
        "colab": {
          "base_uri": "https://localhost:8080/"
        },
        "id": "Zt5d7i16yKO1",
        "outputId": "802e3389-7cad-4cfa-af9f-4f5e5a5c802d"
      },
      "execution_count": 151,
      "outputs": [
        {
          "output_type": "stream",
          "name": "stdout",
          "text": [
            "root\n",
            " |-- ID_Devolucao: integer (nullable = true)\n",
            " |-- ID_Funcionario: integer (nullable = true)\n",
            " |-- ID_Emprestimo: integer (nullable = true)\n",
            " |-- ID_Estoque: integer (nullable = true)\n",
            " |-- ID_Obra: integer (nullable = true)\n",
            " |-- data_devolucao: string (nullable = true)\n",
            " |-- Hora_Devolucao: timestamp (nullable = true)\n",
            " |-- Multa_Atraso: integer (nullable = true)\n",
            " |-- Ano_Hora_Devolucao: string (nullable = true)\n",
            "\n"
          ]
        }
      ]
    },
    {
      "cell_type": "code",
      "source": [
        "# Para resolver essa questão, é preciso criar um dataframe sobre o dataframe de onde precisamos alterar a coluna: \n",
        "\n",
        "\n",
        "df = df.withColumn('Hora_Devolucao', col('Hora_Devolucao').cast(IntegerType()))"
      ],
      "metadata": {
        "id": "U8NmLKbzyO-y"
      },
      "execution_count": 152,
      "outputs": []
    },
    {
      "cell_type": "code",
      "source": [
        "# Verificando de as alterações foram realizadas na tabela:\n",
        "\n",
        "df.printSchema()\n",
        "\n",
        "# Alteração bem sucedida. "
      ],
      "metadata": {
        "colab": {
          "base_uri": "https://localhost:8080/"
        },
        "id": "e-SxxP10zKGu",
        "outputId": "0a778752-e402-4bd9-dda8-f0ae13127232"
      },
      "execution_count": 153,
      "outputs": [
        {
          "output_type": "stream",
          "name": "stdout",
          "text": [
            "root\n",
            " |-- ID_Devolucao: integer (nullable = true)\n",
            " |-- ID_Funcionario: integer (nullable = true)\n",
            " |-- ID_Emprestimo: integer (nullable = true)\n",
            " |-- ID_Estoque: integer (nullable = true)\n",
            " |-- ID_Obra: integer (nullable = true)\n",
            " |-- data_devolucao: string (nullable = true)\n",
            " |-- Hora_Devolucao: integer (nullable = true)\n",
            " |-- Multa_Atraso: integer (nullable = true)\n",
            " |-- Ano_Hora_Devolucao: string (nullable = true)\n",
            "\n"
          ]
        }
      ]
    },
    {
      "cell_type": "code",
      "source": [
        "df.withColumn('data_Devolucao', col('data_Devolucao').cast(DateType())).printSchema()"
      ],
      "metadata": {
        "colab": {
          "base_uri": "https://localhost:8080/"
        },
        "id": "DawIu-j4zaBG",
        "outputId": "cd5a3e81-a507-4989-9bc6-f1485fc3f461"
      },
      "execution_count": 154,
      "outputs": [
        {
          "output_type": "stream",
          "name": "stdout",
          "text": [
            "root\n",
            " |-- ID_Devolucao: integer (nullable = true)\n",
            " |-- ID_Funcionario: integer (nullable = true)\n",
            " |-- ID_Emprestimo: integer (nullable = true)\n",
            " |-- ID_Estoque: integer (nullable = true)\n",
            " |-- ID_Obra: integer (nullable = true)\n",
            " |-- data_Devolucao: date (nullable = true)\n",
            " |-- Hora_Devolucao: integer (nullable = true)\n",
            " |-- Multa_Atraso: integer (nullable = true)\n",
            " |-- Ano_Hora_Devolucao: string (nullable = true)\n",
            "\n"
          ]
        }
      ]
    },
    {
      "cell_type": "code",
      "source": [
        "df.show()"
      ],
      "metadata": {
        "colab": {
          "base_uri": "https://localhost:8080/"
        },
        "id": "pkzDynoO6r4_",
        "outputId": "8790cf49-ff31-4ca9-be10-fc1d19aaf90e"
      },
      "execution_count": 155,
      "outputs": [
        {
          "output_type": "stream",
          "name": "stdout",
          "text": [
            "+------------+--------------+-------------+----------+-------+--------------+--------------+------------+------------------+\n",
            "|ID_Devolucao|ID_Funcionario|ID_Emprestimo|ID_Estoque|ID_Obra|data_devolucao|Hora_Devolucao|Multa_Atraso|Ano_Hora_Devolucao|\n",
            "+------------+--------------+-------------+----------+-------+--------------+--------------+------------+------------------+\n",
            "|           1|             1|            1|        21|     10|     17/8/2011|    1660672800|          10|        2022-08-16|\n",
            "|           2|             8|            2|        14|     14|     28/9/2011|    1660654800|           0|        2022-08-16|\n",
            "|           3|             8|            3|        11|     18|     13/7/2011|    1660661700|           2|        2022-08-16|\n",
            "|           4|             8|            4|        30|     17|     20/8/2011|    1660651260|           3|        2022-08-16|\n",
            "|           5|             1|            5|         1|     23|     11/6/2011|    1660644000|           0|        2022-08-16|\n",
            "|           6|             8|            6|         5|     24|     22/8/2011|    1660661700|           4|        2022-08-16|\n",
            "|           7|             1|            7|         7|     21|     27/3/2012|    1660654800|           0|        2022-08-16|\n",
            "|           8|             8|            8|        18|      6|     21/8/2011|    1660661700|           0|        2022-08-16|\n",
            "|           9|             8|            9|        10|     30|      3/4/2012|    1660644000|           1|        2022-08-16|\n",
            "|          10|             1|           10|        27|      9|     21/8/2011|    1660672800|           2|        2022-08-16|\n",
            "|          11|             8|           11|        22|     11|     31/3/2012|    1660660140|           0|        2022-08-16|\n",
            "|          12|             1|           12|         3|     25|     23/8/2011|    1660672440|           1|        2022-08-16|\n",
            "|          13|             1|           13|        29|     16|      2/4/2012|    1660638960|           0|        2022-08-16|\n",
            "|          14|             1|           14|         4|      1|      3/4/2012|    1660667400|           0|        2022-08-16|\n",
            "|          15|             8|           15|        23|     26|     30/6/2013|    1660648260|           1|        2022-08-16|\n",
            "|          16|             1|           16|        13|     13|     22/8/2011|    1660644000|           0|        2022-08-16|\n",
            "|          17|             1|           17|        15|     19|     22/8/2011|    1660672800|           6|        2022-08-16|\n",
            "|          18|            11|           18|        16|      4|     15/7/2013|    1660662000|           1|        2022-08-16|\n",
            "|          19|             8|           19|        24|     27|      9/7/2013|    1660665600|           0|        2022-08-16|\n",
            "|          20|            11|           20|         2|      2|     27/6/2013|    1660672800|           3|        2022-08-16|\n",
            "+------------+--------------+-------------+----------+-------+--------------+--------------+------------+------------------+\n",
            "only showing top 20 rows\n",
            "\n"
          ]
        }
      ]
    }
  ]
}